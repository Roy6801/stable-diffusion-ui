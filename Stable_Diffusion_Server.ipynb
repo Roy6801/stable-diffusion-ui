{
  "cells": [
    {
      "cell_type": "markdown",
      "metadata": {
        "id": "ef-RMO7ITA7X"
      },
      "source": [
        "# **Enter Your HugginFace and NGROK Auth Tokens**"
      ]
    },
    {
      "cell_type": "code",
      "execution_count": 5,
      "metadata": {
        "id": "oZTYuUKa7N1d"
      },
      "outputs": [],
      "source": [
        "HUGGINGFACE_AUTH_TOKEN = \"YOUR_HUGGINGFACE_AUTH_TOKEN\"\n",
        "NGROK_AUTH_TOKEN = \"YOUR_NGROK_AUTH_TOKEN\""
      ]
    },
    {
      "cell_type": "markdown",
      "metadata": {
        "id": "fph5viPQTSVO"
      },
      "source": [
        "# **Mount Your Google Drive**\n",
        "\n",
        "- Do this if you want to store your models and images of the session and continue next time"
      ]
    },
    {
      "cell_type": "code",
      "execution_count": null,
      "metadata": {
        "id": "wcaiG3-NA4CF"
      },
      "outputs": [],
      "source": [
        "from google.colab import drive\n",
        "drive.mount('/content/drive')"
      ]
    },
    {
      "cell_type": "markdown",
      "metadata": {
        "id": "osyV_rIITuqB"
      },
      "source": [
        "# **Set Path for Models and Images Folder**\n",
        "\n",
        "- Custom path can be a path in any directory in File System, even your Google Drive\n",
        "\n",
        "- The path must start with /content/drive/MyDrive for any folder inside your Google Drive"
      ]
    },
    {
      "cell_type": "code",
      "execution_count": 2,
      "metadata": {
        "id": "xUH3hSI_A1BV"
      },
      "outputs": [],
      "source": [
        "CUSTOM_IMAGE_DIR_PATH = \"/content/drive/MyDrive/stable_diffusion/\"\n",
        "CUSTOM_MODEL_DIR_PATH = \"/content/drive/MyDrive/stable_diffusion/\""
      ]
    },
    {
      "cell_type": "markdown",
      "metadata": {
        "id": "zqHO_s55UU69"
      },
      "source": [
        "# **Cloning Stable Diffusion UI Repository**"
      ]
    },
    {
      "cell_type": "code",
      "execution_count": null,
      "metadata": {
        "id": "hZBO44vZ6ylY"
      },
      "outputs": [],
      "source": [
        "!git clone https://github.com/Roy6801/stable-diffusion-ui"
      ]
    },
    {
      "cell_type": "code",
      "execution_count": null,
      "metadata": {
        "id": "AABWanSK64ak"
      },
      "outputs": [],
      "source": [
        "%cd stable-diffusion-ui"
      ]
    },
    {
      "cell_type": "markdown",
      "metadata": {
        "id": "ccLT4a-gUicH"
      },
      "source": [
        "# **Installing Dependencies**"
      ]
    },
    {
      "cell_type": "code",
      "execution_count": null,
      "metadata": {
        "id": "tEhhY8TF6-39"
      },
      "outputs": [],
      "source": [
        "!pip install -r requirements.txt"
      ]
    },
    {
      "cell_type": "code",
      "execution_count": null,
      "metadata": {
        "id": "vnGgeSSwCbFS"
      },
      "outputs": [],
      "source": [
        "%cd api"
      ]
    },
    {
      "cell_type": "markdown",
      "metadata": {
        "id": "NMI-9GFrU5Qi"
      },
      "source": [
        "# **Setting Up Environment**"
      ]
    },
    {
      "cell_type": "code",
      "execution_count": 9,
      "metadata": {
        "id": "Nbeh3JLA7xNi"
      },
      "outputs": [],
      "source": [
        "import os\n",
        "from pyngrok import ngrok"
      ]
    },
    {
      "cell_type": "code",
      "execution_count": null,
      "metadata": {
        "id": "t1CzZ9uW7JJT"
      },
      "outputs": [],
      "source": [
        "os.environ[\"HUGGINGFACE_AUTH_TOKEN\"] = HUGGINGFACE_AUTH_TOKEN\n",
        "os.environ[\"NGROK_AUTH_TOKEN\"] = NGROK_AUTH_TOKEN\n",
        "os.environ[\"CUSTOM_IMAGE_DIR_PATH\"] = CUSTOM_IMAGE_DIR_PATH\n",
        "os.environ[\"CUSTOM_MODEL_DIR_PATH\"] = CUSTOM_MODEL_DIR_PATH\n",
        "PORT = 8000"
      ]
    },
    {
      "cell_type": "code",
      "execution_count": null,
      "metadata": {
        "id": "qGN-UCIJP7O8"
      },
      "outputs": [],
      "source": [
        "!ngrok config add-authtoken {NGROK_AUTH_TOKEN}"
      ]
    },
    {
      "cell_type": "code",
      "execution_count": null,
      "metadata": {
        "id": "1wTzslikgmo6"
      },
      "outputs": [],
      "source": [
        "from main import app\n",
        "import uvicorn\n",
        "\n",
        "def run_server():\n",
        "    uvicorn.run(app, host=\"0.0.0.0\", port=PORT)"
      ]
    },
    {
      "cell_type": "markdown",
      "metadata": {
        "id": "xFGnny7ZVK7V"
      },
      "source": [
        "# **Running Server**"
      ]
    },
    {
      "cell_type": "code",
      "execution_count": null,
      "metadata": {
        "id": "Rz-eov8ugiRQ"
      },
      "outputs": [],
      "source": [
        "from threading import Thread\n",
        "\n",
        "server = Thread(target=run_server)\n",
        "server.start()"
      ]
    },
    {
      "cell_type": "markdown",
      "metadata": {
        "id": "VKu9zdHQVO36"
      },
      "source": [
        "# **Your Server URL (Temporary  NGROK Domain)**\n",
        "\n",
        "- Run this block if you do not own a Custom/Reserved NGROK Domain"
      ]
    },
    {
      "cell_type": "code",
      "execution_count": null,
      "metadata": {
        "id": "8wQSrcw8DWR_"
      },
      "outputs": [],
      "source": [
        "server_url = ngrok.connect(PORT).public_url\n",
        "print(\"Public URL:\", server_url)"
      ]
    },
    {
      "cell_type": "markdown",
      "metadata": {
        "id": "wONfxh_8Vrag"
      },
      "source": [
        "# **Your Server URL (Reserved NGROK Domain)**\n",
        "\n",
        "- Run this block if you own a Custom/Reserved NGROK Domain"
      ]
    },
    {
      "cell_type": "code",
      "execution_count": 1,
      "metadata": {
        "id": "ePMMWBqhV9nn"
      },
      "outputs": [],
      "source": [
        "CUSTOM_DOMAIN = \"YOUR_CUSTOM_DOMAIN\""
      ]
    },
    {
      "cell_type": "code",
      "execution_count": null,
      "metadata": {
        "id": "SdcZA9aAVhDZ"
      },
      "outputs": [],
      "source": [
        "!ngrok http --domain={CUSTOM_DOMAIN} {PORT}"
      ]
    }
  ],
  "metadata": {
    "accelerator": "GPU",
    "colab": {
      "provenance": []
    },
    "kernelspec": {
      "display_name": "Python 3",
      "name": "python3"
    },
    "language_info": {
      "name": "python",
      "version": "3.10.6"
    }
  },
  "nbformat": 4,
  "nbformat_minor": 0
}
