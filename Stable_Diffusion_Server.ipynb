{
  "cells": [
    {
      "cell_type": "code",
      "execution_count": null,
      "metadata": {
        "id": "oZTYuUKa7N1d"
      },
      "outputs": [],
      "source": [
        "HUGGINGFACE_AUTH_TOKEN = \"YOUR_HUGGINGFACE_TOKEN\"\n",
        "NGROK_AUTH_TOKEN = \"YOUR_NGROK_TOKEN\""
      ]
    },
    {
      "cell_type": "code",
      "execution_count": null,
      "metadata": {
        "id": "sP3TTQhYn6jQ"
      },
      "outputs": [],
      "source": [
        "!nvidia-smi"
      ]
    },
    {
      "cell_type": "code",
      "execution_count": null,
      "metadata": {
        "id": "hZBO44vZ6ylY"
      },
      "outputs": [],
      "source": [
        "!git clone https://github.com/Roy6801/stable-diffusion-ui"
      ]
    },
    {
      "cell_type": "code",
      "execution_count": null,
      "metadata": {
        "id": "AABWanSK64ak"
      },
      "outputs": [],
      "source": [
        "%cd stable-diffusion-ui"
      ]
    },
    {
      "cell_type": "code",
      "execution_count": null,
      "metadata": {
        "id": "tEhhY8TF6-39"
      },
      "outputs": [],
      "source": [
        "!pip install -r requirements.txt\n",
        "!pip install pyngrok"
      ]
    },
    {
      "cell_type": "code",
      "execution_count": null,
      "metadata": {
        "id": "vnGgeSSwCbFS"
      },
      "outputs": [],
      "source": [
        "%cd api"
      ]
    },
    {
      "cell_type": "code",
      "execution_count": null,
      "metadata": {
        "id": "Nbeh3JLA7xNi"
      },
      "outputs": [],
      "source": [
        "import os\n",
        "import uvicorn\n",
        "import threading\n",
        "from pyngrok import ngrok\n",
        "from main import app"
      ]
    },
    {
      "cell_type": "code",
      "execution_count": null,
      "metadata": {
        "id": "t1CzZ9uW7JJT"
      },
      "outputs": [],
      "source": [
        "os.environ[\"HUGGINGFACE_AUTH_TOKEN\"] = HUGGINGFACE_AUTH_TOKEN\n",
        "os.environ[\"NGROK_AUTH_TOKEN\"] = NGROK_AUTH_TOKEN"
      ]
    },
    {
      "cell_type": "code",
      "execution_count": null,
      "metadata": {
        "id": "GAf-kn8n_xKp"
      },
      "outputs": [],
      "source": [
        "!ngrok config add-authtoken {NGROK_AUTH_TOKEN}"
      ]
    },
    {
      "cell_type": "code",
      "execution_count": null,
      "metadata": {
        "id": "P-hsdH-C-5eY"
      },
      "outputs": [],
      "source": [
        "def run_server():\n",
        "    uvicorn.run(app, host=\"0.0.0.0\", port=8000)"
      ]
    },
    {
      "cell_type": "code",
      "execution_count": null,
      "metadata": {
        "id": "hE6hFLSB7qhS"
      },
      "outputs": [],
      "source": [
        "public_url = ngrok.connect(8000).public_url\n",
        "print(\"Public URL:\", public_url)\n",
        "threading.Thread(target=run_server).start()"
      ]
    }
  ],
  "metadata": {
    "accelerator": "GPU",
    "colab": {
      "gpuType": "T4",
      "provenance": []
    },
    "kernelspec": {
      "display_name": "Python 3",
      "name": "python3"
    },
    "language_info": {
      "codemirror_mode": {
        "name": "ipython",
        "version": 3
      },
      "file_extension": ".py",
      "mimetype": "text/x-python",
      "name": "python",
      "nbconvert_exporter": "python",
      "pygments_lexer": "ipython3",
      "version": "3.10.6"
    }
  },
  "nbformat": 4,
  "nbformat_minor": 0
}